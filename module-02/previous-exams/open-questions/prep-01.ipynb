{
 "cells": [
  {
   "cell_type": "markdown",
   "metadata": {},
   "source": [
    "# Exam: 15-01-2025 (A):\n",
    "\n",
    "1) The candidate is invited to briefly introduce the three paradigms for representing and reasoning over systems that evolve along the temporal dimension (namely, EC, Allen Interval Logic, and LTL).\n",
    "\n",
    "2) The candidate is invited to briefly introduce the concepts of Open World Assumption (OWA) and Close World Assumption (CWA), and to illustrate their use in Prolog and in Description Logic."
   ]
  },
  {
   "cell_type": "code",
   "execution_count": null,
   "metadata": {},
   "outputs": [],
   "source": []
  },
  {
   "cell_type": "markdown",
   "metadata": {},
   "source": [
    "# Exam: 15-01-2025 (B):\n",
    "\n",
    "1) The candidate is invited to introduce the Event Calculus framework, by briefly describing the terms (aka the EC ontology) and the axioms.\n",
    "\n",
    "2) The candidate is invited to briefly introduce the concepts of Open World Assumption (OWA) and Close World Assumption (CWA), and to illustrate their use in Prolog and in Description Logic."
   ]
  },
  {
   "cell_type": "code",
   "execution_count": null,
   "metadata": {},
   "outputs": [],
   "source": []
  },
  {
   "cell_type": "markdown",
   "metadata": {},
   "source": [
    "# Exam: 17-01-2024 (A):\n",
    "\n",
    "1) The candidate is invited to briefly introduce the three paradigms presented in the course for dealing with (qualitative) temporal reasoning.\n",
    "\n",
    "2) The candidate is invited to briefly introduce the RETE algorithm."
   ]
  },
  {
   "cell_type": "code",
   "execution_count": null,
   "metadata": {},
   "outputs": [],
   "source": []
  },
  {
   "cell_type": "markdown",
   "metadata": {},
   "source": [
    "# Exam: 17-01-2024 (B):\n",
    "\n",
    "1) The candidate is invited to briefly introduce the RETE algorithm.\n",
    "\n",
    "2) The candidate is invited to briefly introduce the three paradigms presented in the course for dealing with (qualitative) temporal reasoning."
   ]
  },
  {
   "cell_type": "code",
   "execution_count": null,
   "metadata": {},
   "outputs": [],
   "source": []
  },
  {
   "cell_type": "markdown",
   "metadata": {},
   "source": [
    "# Exam: 12-09-2023:\n",
    "\n",
    "1) The candidate is invited to introduce the notions of close world assumption and open world assumption, and to briefly discuss how Prolog and Description Logics deal with these aspects.\n",
    "\n",
    "2) The candidate is invited to introduce the terminology used in the Event Calculus Framework having care, in particular, of indicating the framework axioms.\n"
   ]
  },
  {
   "cell_type": "code",
   "execution_count": null,
   "metadata": {},
   "outputs": [],
   "source": []
  },
  {
   "cell_type": "markdown",
   "metadata": {},
   "source": [
    "# Exam: 16-06-2023:\n",
    "\n",
    "1) The candidate is invited to briefly introduce the three different approaches (presented in the course), to deal with the reasoning with temporal information.\n",
    "\n",
    "2) The candidate is invited to briefly introduce the Description Logics, and in particular the principal operators of the ALC fragment (AND operator; ALL operator; [EXISTS 1 r] operator; concept complement (negation))."
   ]
  },
  {
   "cell_type": "code",
   "execution_count": null,
   "metadata": {},
   "outputs": [],
   "source": []
  },
  {
   "cell_type": "markdown",
   "metadata": {},
   "source": [
    "# Exam: 12-06-2023:\n",
    "\n",
    "1) The candidate is invited to briefly introduce the three different approaches (presented in the course), to deal with the reasoning with temporal information.\n",
    "\n",
    "2) The candidate is invited to briefly introduce the Description Logics, and in particular the principal operators of the ALC fragment (AND operator; ALL operator; [EXISTS 1 r] operator; concept complement (negation))."
   ]
  },
  {
   "cell_type": "code",
   "execution_count": null,
   "metadata": {},
   "outputs": [],
   "source": []
  },
  {
   "cell_type": "markdown",
   "metadata": {},
   "source": [
    "# Exam: 09-02-2023:\n",
    "\n",
    "1) The candidate is invited to introduce the notions of close world assumption and open world assumption, and to briefly discuss how Prolog and Description Logics deal with these aspects.\n",
    "\n",
    "2) The candidate is invited to briefly introduce the ALC Description Logics, mentioning the operators that are supported (negation, AND, ALL, EXISTS), and their meaning (possibly with a short example for each operator)."
   ]
  },
  {
   "cell_type": "code",
   "execution_count": null,
   "metadata": {},
   "outputs": [],
   "source": []
  },
  {
   "cell_type": "markdown",
   "metadata": {},
   "source": [
    "# Exam: 16-01-2023:\n",
    "\n",
    "1) The candidate is invited to describe the predicates/terminology used in the definition of the Event Calculus Framework.\n",
    "\n",
    "2) The candidate is invited to briefly introduce the notion of Semantic Networks, and to highlight some of the limits that were present in their original formulation."
   ]
  },
  {
   "cell_type": "code",
   "execution_count": null,
   "metadata": {},
   "outputs": [],
   "source": []
  },
  {
   "cell_type": "markdown",
   "metadata": {},
   "source": [
    "# Exam: 21-12-2022:\n",
    "\n",
    "1) The candidate is invited to describe the predicates/terminology used in the definition of the Event Calculus Framework.\n",
    "\n",
    "2) Within the terminological approach towards the representation of concepts/categories and individuals/instances, the candidate is invited to illustrate the notions of:\n",
    "   - **Disjointness** over a set S of categories (S = {c1, c2, ..., cn}, where c1...cn are categories)\n",
    "   - **Exhaustive** decomposition of a category c into a set S of categories\n",
    "   - **Partition** of a category c into a set of categories S  \n",
    "\n",
    "   The candidate is invited to illustrate these notions through a simple example."
   ]
  },
  {
   "cell_type": "code",
   "execution_count": null,
   "metadata": {},
   "outputs": [],
   "source": []
  },
  {
   "cell_type": "markdown",
   "metadata": {},
   "source": [
    "# Exam: 02-09-2022:\n",
    "\n",
    "1) The candidate is invited to describe the predicates/terminology used in the definition of the Event Calculus Framework."
   ]
  },
  {
   "cell_type": "code",
   "execution_count": null,
   "metadata": {},
   "outputs": [],
   "source": []
  },
  {
   "cell_type": "markdown",
   "metadata": {},
   "source": [
    "# Exam: 18-07-2022:\n",
    "\n",
    "1) The candidate is invited to briefly introduce the Knowledge Graph paradigms, and which are the main differences w.r.t. the Semantic Web proposal."
   ]
  },
  {
   "cell_type": "code",
   "execution_count": null,
   "metadata": {},
   "outputs": [],
   "source": []
  },
  {
   "cell_type": "markdown",
   "metadata": {},
   "source": [
    "# Exam: 01-07-2022:\n",
    "\n",
    "1) The candidate is invited to describe the predicates/terminology used in the definition of the Event Calculus Framework."
   ]
  },
  {
   "cell_type": "code",
   "execution_count": null,
   "metadata": {},
   "outputs": [],
   "source": []
  },
  {
   "cell_type": "markdown",
   "metadata": {},
   "source": [
    "# Exam: 13-06-2022:\n",
    "\n",
    "1) The candidate is invited to shortly describe the RETE algorithm."
   ]
  },
  {
   "cell_type": "code",
   "execution_count": null,
   "metadata": {},
   "outputs": [],
   "source": []
  }
 ],
 "metadata": {
  "kernelspec": {
   "display_name": ".venv",
   "language": "python",
   "name": "python3"
  },
  "language_info": {
   "codemirror_mode": {
    "name": "ipython",
    "version": 3
   },
   "file_extension": ".py",
   "mimetype": "text/x-python",
   "name": "python",
   "nbconvert_exporter": "python",
   "pygments_lexer": "ipython3",
   "version": "3.11.4"
  }
 },
 "nbformat": 4,
 "nbformat_minor": 2
}
