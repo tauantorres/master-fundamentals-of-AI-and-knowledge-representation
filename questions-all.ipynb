{
 "cells": [
  {
   "cell_type": "raw",
   "metadata": {
    "vscode": {
     "languageId": "raw"
    }
   },
   "source": [
    "0\n",
    ",m nbgvfcSEARCHING:\n",
    "\n",
    "1) What are non-informed search strategies? Describe the strategies that have been presented during the course. \n",
    "* 1.1) What is Breadth-First Search? Describe this search strategy and discuss its completeness and complexity. \n",
    "1.2) What is Depth-First Search? Describe this search strategy and discuss its completeness and complexity. \n",
    "1.3) What is Depth-Limited Search? Describe this search strategy and discuss its completeness and complexity. \n",
    "1.4) What is Iterative Deeping Search? Describe this search strategy and discuss its completeness and complexity. \n",
    "\n",
    "2) What are informed search strategies? Describe the strategies that have been presented during the course. \n",
    "2.1) What is Best-First Search? Describe this search strategy and discuss its completeness and complexity. \n",
    "2.2) What is A* Algorithm Search? Describe this search strategy and discuss its completeness and complexity. \n",
    "\n",
    "\n",
    "\n"
   ]
  }
 ],
 "metadata": {
  "language_info": {
   "name": "python"
  }
 },
 "nbformat": 4,
 "nbformat_minor": 2
}
