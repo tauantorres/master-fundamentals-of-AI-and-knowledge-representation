{
 "cells": [
  {
   "cell_type": "raw",
   "metadata": {
    "vscode": {
     "languageId": "raw"
    }
   },
   "source": [
    "1)(2) What are the main features of a swarm intelligence algorithm? \n",
    "\n",
    "2) What are the main features of a genetic algorithm?\n",
    "\n",
    "3)(2) What is conditional planning and which are its main features?\n",
    "\n",
    "4)(2) What is modal truth criterion and why it has been defined. \n",
    "\n",
    "5) What is hierarchical planning and explain the method presented during the course. \n",
    "\n",
    "6) What is Particle Swarm Optimization and which are its main features?\n",
    "\n",
    "7) What are non-informed search strategies? Describe the strategies that have been presented during the course. \n",
    "\n",
    "8) What is Breadth-First Search? Describe this search strategy and discuss its completeness and complexity. \n",
    "\n",
    "9) What are the main features of a local search algorithm?\n",
    "\n",
    "10) What are the main approaches of deductive planning. Explain the main differences. \n",
    "\n",
    "\n",
    "Questions:\n",
    "\n",
    "SEARCHING:\n",
    "\n",
    "* 9) What are the main features of a local search algorithm?\n",
    "2) What are the main features of a genetic algorithm?\n",
    "7) What are non-informed search strategies? Describe the strategies that have been presented during the course. \n",
    "* 8) What is Breadth-First Search? Describe this search strategy and discuss its completeness and complexity. \n",
    "\n",
    "SWARM INTELLIGENCE:\n",
    "\n",
    "1) What are the main features of a swarm intelligence algorithm?\n",
    "6) What is Particle Swarm Optimization and which are its main features?\n",
    "\n",
    "PLANNING:\n",
    "\n",
    "4) What is modal truth criterion and why it has been defined. \n",
    "3) What is conditional planning and which are its main features?\n",
    "5) What is hierarchical planning and explain the method presented during the course.\n",
    "* 10) What are the main approaches of deductive planning. Explain the main differences.\n",
    "\n",
    "\n"
   ]
  },
  {
   "cell_type": "markdown",
   "metadata": {
    "vscode": {
     "languageId": "raw"
    }
   },
   "source": [
    "\\[\n",
    "\\begin{array}{|c|c|c|c|}\n",
    "\\hline\n",
    "\\textbf{Married (M)} & \\textbf{Young (Y)} & \\mathbf{P(C = c \\mid M, Y)} & \\mathbf{P(C = \\neg c \\mid M, Y)} \\\\ \\hline\n",
    "m & y & 0.8 & 0.2 \\\\ \\hline\n",
    "m & \\neg y & 0.6 & 0.4 \\\\ \\hline\n",
    "\\neg m & y & 0.3 & 0.7 \\\\ \\hline\n",
    "\\neg m & \\neg y & 0.2 & 0.8 \\\\ \\hline\n",
    "\\end{array}\n",
    "\\]\n"
   ]
  },
  {
   "cell_type": "markdown",
   "metadata": {},
   "source": []
  },
  {
   "cell_type": "raw",
   "metadata": {},
   "source": []
  },
  {
   "cell_type": "raw",
   "metadata": {
    "vscode": {
     "languageId": "raw"
    }
   },
   "source": [
    "i have a question, you wrote that:\n",
    "P(T,R,D)=P(T∣R,F)⋅P(R)⋅P(F)⋅P(D∣F)\n",
    "\n",
    "However, it should not be:\n",
    "P(T,R,D)=P(T∣R,F)⋅P(R)⋅P(D∣F) ?? \n",
    "\n",
    "Because, I understand this process as:\n",
    "1. Take the first element X1 and write the P(X1 | parents(X1))\n",
    "2. Take the next element and repeat the process until you finished all the element.\n",
    "\n",
    "In this case:\n",
    "1. For T: parents(T) = {R, F}\n",
    "2. For R: root node -> No parents\n",
    "3. For D: parents(D) = {F}\n",
    "\n",
    "So,\n",
    "\n",
    "P(T, R, D) = P(T | R, F) . P(R) . P(D | F)\n",
    "\n",
    "Am I wrong? \n"
   ]
  },
  {
   "cell_type": "code",
   "execution_count": 1,
   "metadata": {},
   "outputs": [
    {
     "data": {
      "text/plain": [
       "0.1056"
      ]
     },
     "execution_count": 1,
     "metadata": {},
     "output_type": "execute_result"
    }
   ],
   "source": [
    "0.09408 + 0.01152"
   ]
  },
  {
   "cell_type": "code",
   "execution_count": 2,
   "metadata": {},
   "outputs": [
    {
     "data": {
      "text/plain": [
       "0.30379999999999996"
      ]
     },
     "execution_count": 2,
     "metadata": {},
     "output_type": "execute_result"
    }
   ],
   "source": [
    "0.7 * 0.7 * 0.62"
   ]
  },
  {
   "cell_type": "code",
   "execution_count": 3,
   "metadata": {},
   "outputs": [
    {
     "data": {
      "text/plain": [
       "0.0744"
      ]
     },
     "execution_count": 3,
     "metadata": {},
     "output_type": "execute_result"
    }
   ],
   "source": [
    "0.3 * 0.4 * 0.62 "
   ]
  },
  {
   "cell_type": "code",
   "execution_count": 4,
   "metadata": {},
   "outputs": [
    {
     "data": {
      "text/plain": [
       "0.07600000000000001"
      ]
     },
     "execution_count": 4,
     "metadata": {},
     "output_type": "execute_result"
    }
   ],
   "source": [
    "0.2 * 0.38"
   ]
  },
  {
   "cell_type": "code",
   "execution_count": 5,
   "metadata": {},
   "outputs": [
    {
     "data": {
      "text/plain": [
       "0.1504"
      ]
     },
     "execution_count": 5,
     "metadata": {},
     "output_type": "execute_result"
    }
   ],
   "source": [
    "0.3 * 0.4 * 0.62  + 0.2 * 0.38"
   ]
  },
  {
   "cell_type": "code",
   "execution_count": 7,
   "metadata": {},
   "outputs": [],
   "source": [
    "g = 0.3037\n",
    "ng = 0.1504\n"
   ]
  },
  {
   "cell_type": "code",
   "execution_count": 8,
   "metadata": {},
   "outputs": [
    {
     "data": {
      "text/plain": [
       "(0.22734000000000001, 0.18222000000000002, 0.04512)"
      ]
     },
     "execution_count": 8,
     "metadata": {},
     "output_type": "execute_result"
    }
   ],
   "source": [
    "v1 = 0.6 * g\n",
    "v2 = 0.3 * ng\n",
    "v = v1 + v2\n",
    "v, v1, v2"
   ]
  },
  {
   "cell_type": "code",
   "execution_count": 9,
   "metadata": {},
   "outputs": [
    {
     "data": {
      "text/plain": [
       "(0.22676000000000002, 0.12148000000000002, 0.10528)"
      ]
     },
     "execution_count": 9,
     "metadata": {},
     "output_type": "execute_result"
    }
   ],
   "source": [
    "nv1 = 0.4 * g\n",
    "nv2 = 0.7 * ng\n",
    "nv = nv1 + nv2\n",
    "nv, nv1, nv2"
   ]
  },
  {
   "cell_type": "code",
   "execution_count": 13,
   "metadata": {},
   "outputs": [
    {
     "data": {
      "text/plain": [
       "2.2016732716864817"
      ]
     },
     "execution_count": 13,
     "metadata": {},
     "output_type": "execute_result"
    }
   ],
   "source": [
    "alfa = 1 / (0.2274 + 0.2268)\n",
    "alfa"
   ]
  },
  {
   "cell_type": "code",
   "execution_count": 15,
   "metadata": {},
   "outputs": [
    {
     "data": {
      "text/plain": [
       "(0.5006605019815059, 0.4993394980184941)"
      ]
     },
     "execution_count": 15,
     "metadata": {},
     "output_type": "execute_result"
    }
   ],
   "source": [
    "alfa * 0.2274, alfa * 0.2268\n"
   ]
  },
  {
   "cell_type": "code",
   "execution_count": null,
   "metadata": {},
   "outputs": [],
   "source": []
  }
 ],
 "metadata": {
  "kernelspec": {
   "display_name": ".venv",
   "language": "python",
   "name": "python3"
  },
  "language_info": {
   "codemirror_mode": {
    "name": "ipython",
    "version": 3
   },
   "file_extension": ".py",
   "mimetype": "text/x-python",
   "name": "python",
   "nbconvert_exporter": "python",
   "pygments_lexer": "ipython3",
   "version": "3.11.4"
  }
 },
 "nbformat": 4,
 "nbformat_minor": 2
}
